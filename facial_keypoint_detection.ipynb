{
  "nbformat": 4,
  "nbformat_minor": 0,
  "metadata": {
    "colab": {
      "provenance": [],
      "authorship_tag": "ABX9TyNBy5ShMsmA4HTmvdUd1J01",
      "include_colab_link": true
    },
    "kernelspec": {
      "name": "python3",
      "display_name": "Python 3"
    },
    "language_info": {
      "name": "python"
    }
  },
  "cells": [
    {
      "cell_type": "markdown",
      "metadata": {
        "id": "view-in-github",
        "colab_type": "text"
      },
      "source": [
        "<a href=\"https://colab.research.google.com/github/Ashmaan-2006/facial-detection/blob/main/facial_keypoint_detection.ipynb\" target=\"_parent\"><img src=\"https://colab.research.google.com/assets/colab-badge.svg\" alt=\"Open In Colab\"/></a>"
      ]
    },
    {
      "cell_type": "code",
      "execution_count": null,
      "metadata": {
        "id": "r4YUqeZqoeQ8"
      },
      "outputs": [],
      "source": [
        "import pandas as pd\n",
        "import numpy as np\n",
        "\n",
        "# Load dataset\n",
        "df = pd.read_csv('/content/training.csv')  # Update path if needed\n",
        "\n",
        "print(\"Dataset shape:\", df.shape)\n",
        "df.head()\n",
        "\n",
        "# Drop incomplete rows\n",
        "df = df.dropna()\n",
        "\n",
        "# Process images\n",
        "X = np.vstack(df['Image'].apply(lambda im: np.fromstring(im, sep=' ')).values)\n",
        "X = X.reshape(-1, 96, 96, 1).astype('float32') / 255.0  # Normalize pixels\n",
        "\n",
        "# Process keypoints\n",
        "y = df[df.columns[:-1]].values\n",
        "y = (y - 48) / 48  # Normalize to [-1, 1]\n",
        "\n",
        "print(f\"Images shape: {X.shape}\")\n",
        "print(f\"Keypoints shape: {y.shape}\")\n"
      ]
    }
  ]
}